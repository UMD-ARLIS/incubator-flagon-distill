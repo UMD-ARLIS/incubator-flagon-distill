{
 "cells": [
  {
   "cell_type": "markdown",
   "id": "54a3a6e1",
   "metadata": {},
   "source": [
    "## **Data Ingestion**"
   ]
  },
  {
   "cell_type": "code",
   "execution_count": 1,
   "id": "fceb24a5",
   "metadata": {},
   "outputs": [
    {
     "name": "stdout",
     "output_type": "stream",
     "text": [
      "/c/Users/Vladimir/Desktop/Everything/Work/ARLIS/development/incubator-flagon-distill/prototype_1\n"
     ]
    }
   ],
   "source": [
    "import sys\n",
    "sys.path.append('../')\n",
    "\n",
    "!pwd"
   ]
  },
  {
   "cell_type": "code",
   "execution_count": 2,
   "id": "4e158822",
   "metadata": {},
   "outputs": [
    {
     "name": "stdout",
     "output_type": "stream",
     "text": [
      "logs_alex.json\n",
      "logs_amir.json\n",
      "logs_liam.json\n",
      "logs_vlad.json\n",
      "model.pth\n",
      "Prototype 1.ipynb\n"
     ]
    }
   ],
   "source": [
    "!ls"
   ]
  },
  {
   "cell_type": "code",
   "execution_count": 3,
   "id": "6c573e61",
   "metadata": {},
   "outputs": [
    {
     "data": {
      "text/html": [
       "<div>\n",
       "<style scoped>\n",
       "    .dataframe tbody tr th:only-of-type {\n",
       "        vertical-align: middle;\n",
       "    }\n",
       "\n",
       "    .dataframe tbody tr th {\n",
       "        vertical-align: top;\n",
       "    }\n",
       "\n",
       "    .dataframe thead th {\n",
       "        text-align: right;\n",
       "    }\n",
       "</style>\n",
       "<table border=\"1\" class=\"dataframe\">\n",
       "  <thead>\n",
       "    <tr style=\"text-align: right;\">\n",
       "      <th></th>\n",
       "      <th>target</th>\n",
       "      <th>path</th>\n",
       "      <th>clientTime</th>\n",
       "      <th>microTime</th>\n",
       "      <th>location</th>\n",
       "      <th>type</th>\n",
       "      <th>logType</th>\n",
       "      <th>userAction</th>\n",
       "      <th>details</th>\n",
       "      <th>userId</th>\n",
       "      <th>...</th>\n",
       "      <th>toolName</th>\n",
       "      <th>useraleVersion</th>\n",
       "      <th>sessionID</th>\n",
       "      <th>pageUrl</th>\n",
       "      <th>pageTitle</th>\n",
       "      <th>pageReferrer</th>\n",
       "      <th>browser</th>\n",
       "      <th>scrnRes</th>\n",
       "      <th>attributes</th>\n",
       "      <th>style</th>\n",
       "    </tr>\n",
       "  </thead>\n",
       "  <tbody>\n",
       "    <tr>\n",
       "      <th>0</th>\n",
       "      <td>None</td>\n",
       "      <td>None</td>\n",
       "      <td>1682359431822</td>\n",
       "      <td>0.0</td>\n",
       "      <td>None</td>\n",
       "      <td>browser.tabs.onActivated</td>\n",
       "      <td>raw</td>\n",
       "      <td>True</td>\n",
       "      <td>{'active': True, 'audible': False, 'incognito'...</td>\n",
       "      <td>nobody</td>\n",
       "      <td>...</td>\n",
       "      <td>None</td>\n",
       "      <td>None</td>\n",
       "      <td>session_1682359431117</td>\n",
       "      <td>NaN</td>\n",
       "      <td>NaN</td>\n",
       "      <td>NaN</td>\n",
       "      <td>NaN</td>\n",
       "      <td>NaN</td>\n",
       "      <td>NaN</td>\n",
       "      <td>NaN</td>\n",
       "    </tr>\n",
       "    <tr>\n",
       "      <th>1</th>\n",
       "      <td>None</td>\n",
       "      <td>None</td>\n",
       "      <td>1682359435111</td>\n",
       "      <td>0.9</td>\n",
       "      <td>None</td>\n",
       "      <td>browser.tabs.onActivated</td>\n",
       "      <td>raw</td>\n",
       "      <td>True</td>\n",
       "      <td>{'active': True, 'audible': False, 'incognito'...</td>\n",
       "      <td>nobody</td>\n",
       "      <td>...</td>\n",
       "      <td>None</td>\n",
       "      <td>None</td>\n",
       "      <td>session_1682359431117</td>\n",
       "      <td>NaN</td>\n",
       "      <td>NaN</td>\n",
       "      <td>NaN</td>\n",
       "      <td>NaN</td>\n",
       "      <td>NaN</td>\n",
       "      <td>NaN</td>\n",
       "      <td>NaN</td>\n",
       "    </tr>\n",
       "    <tr>\n",
       "      <th>2</th>\n",
       "      <td>None</td>\n",
       "      <td>None</td>\n",
       "      <td>1682359436401</td>\n",
       "      <td>0.6</td>\n",
       "      <td>None</td>\n",
       "      <td>browser.tabs.onActivated</td>\n",
       "      <td>raw</td>\n",
       "      <td>True</td>\n",
       "      <td>{'active': True, 'audible': False, 'incognito'...</td>\n",
       "      <td>nobody</td>\n",
       "      <td>...</td>\n",
       "      <td>None</td>\n",
       "      <td>None</td>\n",
       "      <td>session_1682359431117</td>\n",
       "      <td>NaN</td>\n",
       "      <td>NaN</td>\n",
       "      <td>NaN</td>\n",
       "      <td>NaN</td>\n",
       "      <td>NaN</td>\n",
       "      <td>NaN</td>\n",
       "      <td>NaN</td>\n",
       "    </tr>\n",
       "    <tr>\n",
       "      <th>3</th>\n",
       "      <td>None</td>\n",
       "      <td>None</td>\n",
       "      <td>1682359452355</td>\n",
       "      <td>0.4</td>\n",
       "      <td>None</td>\n",
       "      <td>browser.tabs.onZoomChange</td>\n",
       "      <td>raw</td>\n",
       "      <td>True</td>\n",
       "      <td>{'oldZoomFactor': 1, 'newZoomFactor': 1, 'acti...</td>\n",
       "      <td>nobody</td>\n",
       "      <td>...</td>\n",
       "      <td>None</td>\n",
       "      <td>None</td>\n",
       "      <td>session_1682359431117</td>\n",
       "      <td>NaN</td>\n",
       "      <td>NaN</td>\n",
       "      <td>NaN</td>\n",
       "      <td>NaN</td>\n",
       "      <td>NaN</td>\n",
       "      <td>NaN</td>\n",
       "      <td>NaN</td>\n",
       "    </tr>\n",
       "    <tr>\n",
       "      <th>4</th>\n",
       "      <td>NaN</td>\n",
       "      <td>NaN</td>\n",
       "      <td>1682359452944</td>\n",
       "      <td>NaN</td>\n",
       "      <td>NaN</td>\n",
       "      <td>load</td>\n",
       "      <td>custom</td>\n",
       "      <td>False</td>\n",
       "      <td>{'pageLoadTime': 28}</td>\n",
       "      <td>nobody</td>\n",
       "      <td>...</td>\n",
       "      <td>test_app</td>\n",
       "      <td>2.3.0</td>\n",
       "      <td>session_1682359431117</td>\n",
       "      <td>http://localhost:8088/superset/dashboard/world...</td>\n",
       "      <td>World Bank's Data</td>\n",
       "      <td></td>\n",
       "      <td>{'browser': 'chrome', 'version': '112.0.0'}</td>\n",
       "      <td>{'width': 1384, 'height': 959}</td>\n",
       "      <td>{}</td>\n",
       "      <td>{}</td>\n",
       "    </tr>\n",
       "  </tbody>\n",
       "</table>\n",
       "<p>5 rows × 21 columns</p>\n",
       "</div>"
      ],
      "text/plain": [
       "  target  path     clientTime  microTime location                       type  \\\n",
       "0   None  None  1682359431822        0.0     None   browser.tabs.onActivated   \n",
       "1   None  None  1682359435111        0.9     None   browser.tabs.onActivated   \n",
       "2   None  None  1682359436401        0.6     None   browser.tabs.onActivated   \n",
       "3   None  None  1682359452355        0.4     None  browser.tabs.onZoomChange   \n",
       "4    NaN   NaN  1682359452944        NaN      NaN                       load   \n",
       "\n",
       "  logType  userAction                                            details  \\\n",
       "0     raw        True  {'active': True, 'audible': False, 'incognito'...   \n",
       "1     raw        True  {'active': True, 'audible': False, 'incognito'...   \n",
       "2     raw        True  {'active': True, 'audible': False, 'incognito'...   \n",
       "3     raw        True  {'oldZoomFactor': 1, 'newZoomFactor': 1, 'acti...   \n",
       "4  custom       False                               {'pageLoadTime': 28}   \n",
       "\n",
       "   userId  ...  toolName useraleVersion              sessionID  \\\n",
       "0  nobody  ...      None           None  session_1682359431117   \n",
       "1  nobody  ...      None           None  session_1682359431117   \n",
       "2  nobody  ...      None           None  session_1682359431117   \n",
       "3  nobody  ...      None           None  session_1682359431117   \n",
       "4  nobody  ...  test_app          2.3.0  session_1682359431117   \n",
       "\n",
       "                                             pageUrl          pageTitle  \\\n",
       "0                                                NaN                NaN   \n",
       "1                                                NaN                NaN   \n",
       "2                                                NaN                NaN   \n",
       "3                                                NaN                NaN   \n",
       "4  http://localhost:8088/superset/dashboard/world...  World Bank's Data   \n",
       "\n",
       "  pageReferrer                                      browser  \\\n",
       "0          NaN                                          NaN   \n",
       "1          NaN                                          NaN   \n",
       "2          NaN                                          NaN   \n",
       "3          NaN                                          NaN   \n",
       "4               {'browser': 'chrome', 'version': '112.0.0'}   \n",
       "\n",
       "                          scrnRes attributes style  \n",
       "0                             NaN        NaN   NaN  \n",
       "1                             NaN        NaN   NaN  \n",
       "2                             NaN        NaN   NaN  \n",
       "3                             NaN        NaN   NaN  \n",
       "4  {'width': 1384, 'height': 959}         {}    {}  \n",
       "\n",
       "[5 rows x 21 columns]"
      ]
     },
     "execution_count": 3,
     "metadata": {},
     "output_type": "execute_result"
    }
   ],
   "source": [
    "import datetime\n",
    "import distill\n",
    "import json\n",
    "import networkx as nx\n",
    "import os\n",
    "import pandas as pd\n",
    "import plotly.express as px\n",
    "import re\n",
    "\n",
    "df = pd.read_json(\"logs_vlad.json\")\n",
    "df.head()"
   ]
  },
  {
   "cell_type": "code",
   "execution_count": 4,
   "id": "53736ebc",
   "metadata": {},
   "outputs": [
    {
     "name": "stdout",
     "output_type": "stream",
     "text": [
      "Index(['target', 'path', 'clientTime', 'microTime', 'location', 'type',\n",
      "       'logType', 'userAction', 'details', 'userId', 'toolVersion', 'toolName',\n",
      "       'useraleVersion', 'sessionID', 'pageUrl', 'pageTitle', 'pageReferrer',\n",
      "       'browser', 'scrnRes', 'attributes', 'style'],\n",
      "      dtype='object')\n",
      "<class 'pandas.core.series.Series'>\n",
      "<class 'dict'>\n",
      "India\n"
     ]
    }
   ],
   "source": [
    "print(df.columns)\n",
    "print( type(df['attributes']) )\n",
    "print( type(df['attributes'].iloc[-1]) )\n",
    "print( (df['attributes'].iloc[-1]['data-info']['name']) )"
   ]
  },
  {
   "cell_type": "markdown",
   "id": "be931622",
   "metadata": {},
   "source": [
    "As we can see, the logs json produces a dataframe with a column that hold each web-interaction's (in this case, exclusively clicks') dictionary of attributes wherein the name of the clicked country is located"
   ]
  },
  {
   "cell_type": "markdown",
   "id": "076873be",
   "metadata": {},
   "source": [
    "Now lets try extracting the relevant logs into list or Segment types. My initial method:"
   ]
  },
  {
   "cell_type": "code",
   "execution_count": 5,
   "id": "d401af52",
   "metadata": {},
   "outputs": [
    {
     "name": "stdout",
     "output_type": "stream",
     "text": [
      "Final # of sessions:  27\n"
     ]
    }
   ],
   "source": [
    "sessions = []\n",
    "curr_session = []\n",
    "for index, row in df.iterrows(): # for each row\n",
    "    attr = row['attributes']\n",
    "    # if the attributes column element is a dictionary and contains the data-info dictionary, append the click log\n",
    "    if isinstance(attr, dict) and ('data-info' in attr):\n",
    "        curr_session.append( row )\n",
    "    # Otherwise, if the session is over, append the last session and reset for the new one\n",
    "    elif len(curr_session)!=0:\n",
    "        sessions.append(curr_session)\n",
    "        curr_session = []\n",
    "print(\"Final # of sessions: \", len(sessions))"
   ]
  },
  {
   "cell_type": "markdown",
   "id": "b16a4a24",
   "metadata": {},
   "source": [
    "## Preprocessing"
   ]
  },
  {
   "cell_type": "code",
   "execution_count": 6,
   "id": "a4dd672e",
   "metadata": {},
   "outputs": [],
   "source": [
    "import sys\n",
    "sys.path.append('../')\n",
    "\n",
    "import datetime\n",
    "import distill\n",
    "import json\n",
    "import networkx as nx\n",
    "import os\n",
    "import pandas as pd\n",
    "import plotly.express as px\n",
    "import re\n",
    "\n",
    "def setup(file, date_type):\n",
    "    with open(file) as json_file:\n",
    "        raw_data = json.load(json_file)\n",
    "\n",
    "    data = {}\n",
    "    for log in raw_data:\n",
    "        data[distill.getUUID(log)] = log\n",
    "        \n",
    "    # Convert clientTime to specified type\n",
    "    for uid in data:\n",
    "        log = data[uid]\n",
    "        client_time = log['clientTime']\n",
    "        if date_type == \"integer\":\n",
    "            log['clientTime'] = distill.epoch_to_datetime(client_time)\n",
    "        elif date_type == \"datetime\":\n",
    "            log['clientTime'] = pd.to_datetime(client_time, unit='ms', origin='unix')\n",
    "\n",
    "    # Sort\n",
    "    sorted_data = sorted(data.items(), key=lambda kv: kv[1]['clientTime'])\n",
    "    sorted_dict = dict(sorted_data)\n",
    "\n",
    "    return (sorted_data, sorted_dict)"
   ]
  },
  {
   "cell_type": "markdown",
   "id": "c7e9c3e7",
   "metadata": {},
   "source": [
    "Sessions are divided into a sequence of their logs which is further dissected into a sequence of strings describing analytical tool elements (country names) according to the order in which those elements were clicked"
   ]
  },
  {
   "cell_type": "code",
   "execution_count": 7,
   "id": "8db66bb8",
   "metadata": {},
   "outputs": [
    {
     "name": "stdout",
     "output_type": "stream",
     "text": [
      "Raw # of tasks/sessions:  101\n",
      "Element name sequences:  [['United States', 'Japan', 'Australia', 'India'], ['United States'], ['United States'], ['United States', 'Japan'], ['United States', 'Japan', 'Australia', 'India']]\n"
     ]
    }
   ],
   "source": [
    "data_dict = {}\n",
    "data_many_session = setup(\"logs_vlad.json\", \"datetime\")\n",
    "sorted_dict_vlad = data_many_session[1]\n",
    "sorted_dict_amir = setup(\"logs_amir.json\", \"datetime\")[1]\n",
    "sorted_dict_alex = setup(\"logs_alex.json\", \"datetime\")[1]\n",
    "sorted_dict_liam = setup(\"logs_liam.json\", \"datetime\")[1]\n",
    "data_dict.update(sorted_dict_vlad)\n",
    "data_dict.update(sorted_dict_amir)\n",
    "data_dict.update(sorted_dict_alex)\n",
    "data_dict.update(sorted_dict_liam)\n",
    "\n",
    "# Make a list of lists containing the name of each country clicked in each session (101 total)\n",
    "sess_lst = []\n",
    "curr_sess = []\n",
    "first_key = list(data_dict.keys())[0]\n",
    "curr_id = data_dict[first_key]['sessionID']\n",
    "for k,v in data_dict.items():\n",
    "    if 'attributes' in v and 'data-info' in v['attributes']:\n",
    "        name = v['attributes']['data-info']['name']\n",
    "        if v['sessionID'] != curr_id:\n",
    "            curr_id = v['sessionID']\n",
    "            sess_lst.append(curr_sess)\n",
    "            curr_sess = [name]\n",
    "        else:\n",
    "            curr_sess.append(name)\n",
    "print(\"Raw # of tasks/sessions: \", len(sess_lst))\n",
    "print(\"Element name sequences: \", sess_lst[:5])"
   ]
  },
  {
   "cell_type": "markdown",
   "id": "07ab76df",
   "metadata": {},
   "source": [
    "## Partitioning"
   ]
  },
  {
   "cell_type": "code",
   "execution_count": 8,
   "id": "7b13d62f",
   "metadata": {},
   "outputs": [
    {
     "name": "stdout",
     "output_type": "stream",
     "text": [
      "Refined # of tasks/sessions:  87\n"
     ]
    },
    {
     "data": {
      "text/html": [
       "<div>\n",
       "<style scoped>\n",
       "    .dataframe tbody tr th:only-of-type {\n",
       "        vertical-align: middle;\n",
       "    }\n",
       "\n",
       "    .dataframe tbody tr th {\n",
       "        vertical-align: top;\n",
       "    }\n",
       "\n",
       "    .dataframe thead th {\n",
       "        text-align: right;\n",
       "    }\n",
       "</style>\n",
       "<table border=\"1\" class=\"dataframe\">\n",
       "  <thead>\n",
       "    <tr style=\"text-align: right;\">\n",
       "      <th></th>\n",
       "      <th>inputs</th>\n",
       "      <th>targets</th>\n",
       "    </tr>\n",
       "  </thead>\n",
       "  <tbody>\n",
       "    <tr>\n",
       "      <th>0</th>\n",
       "      <td>[United States, Japan, Australia]</td>\n",
       "      <td>India</td>\n",
       "    </tr>\n",
       "    <tr>\n",
       "      <th>1</th>\n",
       "      <td>[United States]</td>\n",
       "      <td>Japan</td>\n",
       "    </tr>\n",
       "    <tr>\n",
       "      <th>2</th>\n",
       "      <td>[United States, Japan, Australia]</td>\n",
       "      <td>India</td>\n",
       "    </tr>\n",
       "    <tr>\n",
       "      <th>3</th>\n",
       "      <td>[United States]</td>\n",
       "      <td>Japan</td>\n",
       "    </tr>\n",
       "    <tr>\n",
       "      <th>4</th>\n",
       "      <td>[United States, Japan]</td>\n",
       "      <td>Australia</td>\n",
       "    </tr>\n",
       "    <tr>\n",
       "      <th>...</th>\n",
       "      <td>...</td>\n",
       "      <td>...</td>\n",
       "    </tr>\n",
       "    <tr>\n",
       "      <th>82</th>\n",
       "      <td>[Canada, United States, United Kingdom, France...</td>\n",
       "      <td>Turkey</td>\n",
       "    </tr>\n",
       "    <tr>\n",
       "      <th>83</th>\n",
       "      <td>[United States, Canada, United Kingdom, France...</td>\n",
       "      <td>Turkey</td>\n",
       "    </tr>\n",
       "    <tr>\n",
       "      <th>84</th>\n",
       "      <td>[Canada, United States, United Kingdom, France...</td>\n",
       "      <td>Turkey</td>\n",
       "    </tr>\n",
       "    <tr>\n",
       "      <th>85</th>\n",
       "      <td>[Canada, United States, United Kingdom, German...</td>\n",
       "      <td>Turkey</td>\n",
       "    </tr>\n",
       "    <tr>\n",
       "      <th>86</th>\n",
       "      <td>[Canada, United States, France, United Kingdom...</td>\n",
       "      <td>Turkey</td>\n",
       "    </tr>\n",
       "  </tbody>\n",
       "</table>\n",
       "<p>87 rows × 2 columns</p>\n",
       "</div>"
      ],
      "text/plain": [
       "                                               inputs    targets\n",
       "0                   [United States, Japan, Australia]      India\n",
       "1                                     [United States]      Japan\n",
       "2                   [United States, Japan, Australia]      India\n",
       "3                                     [United States]      Japan\n",
       "4                              [United States, Japan]  Australia\n",
       "..                                                ...        ...\n",
       "82  [Canada, United States, United Kingdom, France...     Turkey\n",
       "83  [United States, Canada, United Kingdom, France...     Turkey\n",
       "84  [Canada, United States, United Kingdom, France...     Turkey\n",
       "85  [Canada, United States, United Kingdom, German...     Turkey\n",
       "86  [Canada, United States, France, United Kingdom...     Turkey\n",
       "\n",
       "[87 rows x 2 columns]"
      ]
     },
     "execution_count": 8,
     "metadata": {},
     "output_type": "execute_result"
    }
   ],
   "source": [
    "import pandas as pd\n",
    "\n",
    "data = [s for s in sess_lst if len(s) > 1]\n",
    "print(\"Refined # of tasks/sessions: \", len(data))\n",
    "\n",
    "# inputs = [s[:-1] for s in data]\n",
    "# targets = [s[-1] for s in data]\n",
    "data_tups = [(s[:-1], s[-1]) for s in data]\n",
    "# print(\"data: \", data_tups)\n",
    "df = pd.DataFrame(data_tups, columns=[\"inputs\", \"targets\"])\n",
    "df"
   ]
  },
  {
   "cell_type": "markdown",
   "id": "1c9eb070",
   "metadata": {},
   "source": [
    "## **Model** (Training and Evaluation)"
   ]
  },
  {
   "cell_type": "markdown",
   "id": "0e1b8e29",
   "metadata": {},
   "source": [
    "**Working LSTM model:**"
   ]
  },
  {
   "cell_type": "code",
   "execution_count": 9,
   "id": "13de4536",
   "metadata": {},
   "outputs": [
    {
     "name": "stdout",
     "output_type": "stream",
     "text": [
      "Epoch 0, Loss: 2.451227903366089\n",
      "Epoch 100, Loss: 0.0004663571889977902\n",
      "Epoch 200, Loss: 6.794698856538162e-05\n",
      "Epoch 300, Loss: 2.7418097943154862e-06\n",
      "Epoch 400, Loss: 3.576278118089249e-07\n",
      "Epoch 500, Loss: 3.576278118089249e-07\n",
      "Epoch 600, Loss: 1.5497195136049413e-06\n",
      "Epoch 700, Loss: 5.960462772236497e-07\n",
      "Epoch 800, Loss: 2.3841855067985307e-07\n",
      "Epoch 900, Loss: 1.1920928244535389e-07\n",
      "Epoch 1000, Loss: 2.3841855067985307e-07\n"
     ]
    }
   ],
   "source": [
    "import torch\n",
    "import torch.nn as nn\n",
    "import torch.optim as optim\n",
    "\n",
    "class LSTM(nn.Module):\n",
    "    def __init__(self, input_size, hidden_size, output_size):\n",
    "        super(LSTM, self).__init__()\n",
    "        self.hidden_size = hidden_size\n",
    "        self.lstm = nn.LSTM(input_size, hidden_size)\n",
    "        self.embedding = nn.Embedding(input_size, hidden_size)\n",
    "        self.fc = nn.Linear(hidden_size, output_size)\n",
    "        self.dropout = nn.Dropout(p=0.5)\n",
    "\n",
    "    def forward(self, input_seq):\n",
    "        # Initialize hidden state and cell state\n",
    "        hidden = (torch.zeros(1, 1, self.hidden_size), torch.zeros(1, 1, self.hidden_size))\n",
    "        \n",
    "        # Convert input sequence to tensor of indices\n",
    "        input_idx = [word2idx[w] for w in input_seq]\n",
    "        input_tensor = torch.tensor(input_idx, dtype=torch.long).unsqueeze(1)\n",
    "        \n",
    "        # Embed input tensor\n",
    "        input_embedded = self.dropout(self.embedding(input_tensor))\n",
    "        \n",
    "        # Pass through LSTM layer\n",
    "        lstm_out, hidden = self.lstm(input_embedded, hidden)\n",
    "        \n",
    "        # Pass LSTM output through linear layer to get predicted next word\n",
    "        output = self.fc(lstm_out.view(len(input_seq), -1))\n",
    "        return output\n",
    "\n",
    "# Define the vocabulary and index-to-word mapping\n",
    "vocab = ['Canada', 'United States', 'Mexico', 'Brazil', 'Argentina', 'United Kingdom', 'France', 'Germany', 'Poland', 'Turkey', 'Japan', 'Australia', 'Russia', 'China', 'India', 'South Africa', 'Paraguay']\n",
    "word2idx = {w: i for i, w in enumerate(vocab)}\n",
    "idx2word = {i: w for i, w in enumerate(vocab)}\n",
    "\n",
    "# Define the model\n",
    "lstm = LSTM(input_size=len(vocab), hidden_size=17, output_size=len(vocab))\n",
    "loss_fn = nn.CrossEntropyLoss()\n",
    "optimizer = torch.optim.Adam(lstm.parameters())\n",
    "\n",
    "for epoch in range(1001):\n",
    "    for i,t in data_tups:\n",
    "        lstm.zero_grad()\n",
    "        hidden = (torch.zeros(1, 1, lstm.hidden_size), torch.zeros(1, 1, lstm.hidden_size))  # update hidden\n",
    "        output = lstm(i)\n",
    "        predicted_idx = output[-1].unsqueeze(0)\n",
    "        target_idx = torch.tensor([word2idx[t]], dtype=torch.long)\n",
    "        loss = loss_fn(predicted_idx, target_idx)\n",
    "        loss.backward()\n",
    "        optimizer.step()\n",
    "    \n",
    "    if epoch % 100 == 0:\n",
    "        print(f\"Epoch {epoch}, Loss: {loss.item()}\")"
   ]
  },
  {
   "cell_type": "markdown",
   "id": "64d2a884",
   "metadata": {},
   "source": [
    "Attempting the same as before, but **now with k-fold validation to get the best trained model:**"
   ]
  },
  {
   "cell_type": "code",
   "execution_count": 10,
   "id": "7be2d3c1",
   "metadata": {},
   "outputs": [
    {
     "name": "stdout",
     "output_type": "stream",
     "text": [
      "Fold 1, Epoch 0, Training Loss: 2.677783966064453\n",
      "Fold 1, Epoch 100, Training Loss: 0.0010971962474286556\n",
      "Fold 1, Epoch 200, Training Loss: 6.460934673668817e-05\n",
      "Fold 1, Epoch 300, Training Loss: 6.651657167822123e-05\n",
      "Fold 1, Epoch 400, Training Loss: 6.794906312279636e-06\n",
      "Fold 1, Epoch 500, Training Loss: 6.580135959666222e-05\n",
      "Fold 1, Epoch 600, Training Loss: 3.0040289857424796e-05\n",
      "Fold 1, Epoch 700, Training Loss: 7.152555099310121e-07\n",
      "Fold 1, Epoch 800, Training Loss: 4.768370445162873e-07\n",
      "Fold 1, Epoch 900, Training Loss: 3.099436753473128e-06\n",
      "Fold 1, Epoch 1000, Training Loss: 2.3841855067985307e-07\n",
      "Fold 1, Validation Loss: 0.0004561165348578931\n",
      "\n",
      "Fold 2, Epoch 0, Training Loss: 2.252131700515747\n",
      "Fold 2, Epoch 100, Training Loss: 0.0019082685466855764\n",
      "Fold 2, Epoch 200, Training Loss: 0.00022015532886143774\n",
      "Fold 2, Epoch 300, Training Loss: 1.8954096958623268e-05\n",
      "Fold 2, Epoch 400, Training Loss: 8.106198947643861e-06\n",
      "Fold 2, Epoch 500, Training Loss: 3.2186455882765586e-06\n",
      "Fold 2, Epoch 600, Training Loss: 1.0728830375228426e-06\n",
      "Fold 2, Epoch 700, Training Loss: 8.344646857949556e-07\n",
      "Fold 2, Epoch 800, Training Loss: 3.576278118089249e-07\n",
      "Fold 2, Epoch 900, Training Loss: 9.536738616588991e-07\n",
      "Fold 2, Epoch 1000, Training Loss: 1.1920928244535389e-07\n",
      "Fold 2, Validation Loss: 1.4483680162561736\n",
      "\n",
      "Fold 3, Epoch 0, Training Loss: 2.8265671730041504\n",
      "Fold 3, Epoch 100, Training Loss: 0.0009541726321913302\n",
      "Fold 3, Epoch 200, Training Loss: 4.565611743601039e-05\n",
      "Fold 3, Epoch 300, Training Loss: 4.1126360883936286e-05\n",
      "Fold 3, Epoch 400, Training Loss: 7.152531907195225e-06\n",
      "Fold 3, Epoch 500, Training Loss: 2.9802276912960224e-06\n",
      "Fold 3, Epoch 600, Training Loss: 3.4570634852570947e-06\n",
      "Fold 3, Epoch 700, Training Loss: 5.006777428206988e-06\n",
      "Fold 3, Epoch 800, Training Loss: 2.3841830625315197e-06\n",
      "Fold 3, Epoch 900, Training Loss: 2.3841830625315197e-06\n",
      "Fold 3, Epoch 1000, Training Loss: 6.437280717364047e-06\n",
      "Fold 3, Validation Loss: 2.1742366937998305\n",
      "\n",
      "Fold 4, Epoch 0, Training Loss: 2.4931976795196533\n",
      "Fold 4, Epoch 100, Training Loss: 0.002709410386160016\n",
      "Fold 4, Epoch 200, Training Loss: 5.328513361746445e-05\n",
      "Fold 4, Epoch 300, Training Loss: 9.417489309271332e-06\n",
      "Fold 4, Epoch 400, Training Loss: 3.099436753473128e-06\n",
      "Fold 4, Epoch 500, Training Loss: 4.768370445162873e-07\n",
      "Fold 4, Epoch 600, Training Loss: 2.861018856492592e-06\n",
      "Fold 4, Epoch 700, Training Loss: 7.867782187531702e-06\n",
      "Fold 4, Epoch 800, Training Loss: 1.1920928244535389e-07\n",
      "Fold 4, Epoch 900, Training Loss: 7.152555099310121e-07\n",
      "Fold 4, Epoch 1000, Training Loss: 2.3841830625315197e-06\n",
      "Fold 4, Validation Loss: 0.006452309999816752\n",
      "\n",
      "Fold 5, Epoch 0, Training Loss: 2.112793445587158\n",
      "Fold 5, Epoch 100, Training Loss: 0.0007240534760057926\n",
      "Fold 5, Epoch 200, Training Loss: 4.076874756719917e-05\n",
      "Fold 5, Epoch 300, Training Loss: 2.682172998902388e-05\n",
      "Fold 5, Epoch 400, Training Loss: 2.622600959512056e-06\n",
      "Fold 5, Epoch 500, Training Loss: 5.364274329622276e-05\n",
      "Fold 5, Epoch 600, Training Loss: 1.311301275563892e-06\n",
      "Fold 5, Epoch 700, Training Loss: 9.536738616588991e-07\n",
      "Fold 5, Epoch 800, Training Loss: 3.099436753473128e-06\n",
      "Fold 5, Epoch 900, Training Loss: 2.3841855067985307e-07\n",
      "Fold 5, Epoch 1000, Training Loss: 0.0\n",
      "Fold 5, Validation Loss: 0.0077272573575922696\n",
      "\n"
     ]
    }
   ],
   "source": [
    "import random\n",
    "import sys\n",
    "\n",
    "# Shuffle data tuples\n",
    "random.shuffle(data_tups)\n",
    "\n",
    "# Define the number of folds\n",
    "k = 5\n",
    "\n",
    "# Divide data tuples into k subsets of equal size\n",
    "subset_size = len(data_tups) // k\n",
    "data_subsets = [data_tups[i:i+subset_size] for i in range(0, len(data_tups), subset_size)]\n",
    "\n",
    "best_loss = float(sys.maxsize)\n",
    "best_lstm = LSTM(input_size=len(vocab), hidden_size=17, output_size=len(vocab))\n",
    "best_val_fold = []\n",
    "best_train_fold = []\n",
    "# Train and validate model on each subset\n",
    "for fold in range(k):\n",
    "    # Define the model\n",
    "    lstm = LSTM(input_size=len(vocab), hidden_size=17, output_size=len(vocab))\n",
    "    loss_fn = nn.CrossEntropyLoss()\n",
    "    optimizer = torch.optim.Adam(lstm.parameters())\n",
    "\n",
    "    # Get the training and validation data for this fold\n",
    "    val_data = data_subsets[fold]\n",
    "    train_data = [tup for i, subset in enumerate(data_subsets) for tup in subset if i != fold]\n",
    "\n",
    "    # Train the model on the training data\n",
    "    for epoch in range(1001):\n",
    "        for i,t in train_data:\n",
    "            lstm.zero_grad()\n",
    "            hidden = (torch.zeros(1, 1, lstm.hidden_size), torch.zeros(1, 1, lstm.hidden_size))  # update hidden\n",
    "            output = lstm(i)\n",
    "            predicted_idx = output[-1].unsqueeze(0)\n",
    "            target_idx = torch.tensor([word2idx[t]], dtype=torch.long)\n",
    "            loss = loss_fn(predicted_idx, target_idx)\n",
    "            loss.backward()\n",
    "            optimizer.step()\n",
    "\n",
    "        if epoch % 100 == 0:\n",
    "            print(f\"Fold {fold+1}, Epoch {epoch}, Training Loss: {loss.item()}\")\n",
    "\n",
    "    # Evaluate the model on the validation data\n",
    "    val_loss = 0\n",
    "    with torch.no_grad():\n",
    "        for i,t in val_data:\n",
    "            hidden = (torch.zeros(1, 1, lstm.hidden_size), torch.zeros(1, 1, lstm.hidden_size))  # update hidden\n",
    "            output = lstm(i)\n",
    "            predicted_idx = output[-1].unsqueeze(0)\n",
    "            target_idx = torch.tensor([word2idx[t]], dtype=torch.long)\n",
    "            loss = loss_fn(predicted_idx, target_idx)\n",
    "            val_loss += loss.item()\n",
    "    \n",
    "    val_loss /= len(val_data)\n",
    "    if val_loss < best_loss:\n",
    "        best_loss = val_loss\n",
    "        best_lstm = lstm\n",
    "        best_val_fold = val_data\n",
    "        best_train_fold = train_data\n",
    "    \n",
    "    print(f\"Fold {fold+1}, Validation Loss: {val_loss}\")\n",
    "    print()\n",
    "\n",
    "torch.save(best_lstm, 'model.pth')"
   ]
  },
  {
   "cell_type": "markdown",
   "id": "20a9b890",
   "metadata": {},
   "source": [
    "## Model Performance"
   ]
  },
  {
   "cell_type": "code",
   "execution_count": 11,
   "id": "90c40cf2",
   "metadata": {},
   "outputs": [
    {
     "name": "stdout",
     "output_type": "stream",
     "text": [
      "Size of the validation set for our confusion matrix:  17\n"
     ]
    }
   ],
   "source": [
    "import torch\n",
    "\n",
    "best_lstm = torch.load('model.pth')\n",
    "\n",
    "print(\"Size of the validation set for our confusion matrix: \", len(best_val_fold))"
   ]
  },
  {
   "cell_type": "markdown",
   "id": "8cdfd273",
   "metadata": {},
   "source": [
    "In the following confusion matrix, we are displaying where the validation set's true labels intersect/diverge from the model's predictions. More shaded boxes and values **on the diagonal** means the model is making the **correct predictions**. More shaded boxes and values **anywhere else** means the **model is confused** with some of the validation set's inputs on what the right prediction should be."
   ]
  },
  {
   "cell_type": "code",
   "execution_count": 12,
   "id": "75ad3a81",
   "metadata": {},
   "outputs": [
    {
     "data": {
      "image/png": "[encoded data removed]",
      "text/plain": [
       "<Figure size 1000x1000 with 2 Axes>"
      ]
     },
     "metadata": {},
     "output_type": "display_data"
    }
   ],
   "source": [
    "# Create the confusion matrix\n",
    "from sklearn.metrics import confusion_matrix\n",
    "import numpy as np\n",
    "import matplotlib.pyplot as plt\n",
    "import numpy as np\n",
    "\n",
    "# Set the model to evaluation mode\n",
    "best_lstm.eval()\n",
    "\n",
    "# Create variables to store predictions and ground truth labels\n",
    "predictions = []\n",
    "labels = []\n",
    "# Loop through the test dataset and make predictions\n",
    "for i, t in best_val_fold:\n",
    "    output = best_lstm(i)\n",
    "    predicted_idx = torch.argmax(output[-1]).item()\n",
    "    predicted_label = idx2word[predicted_idx]\n",
    "    label = t\n",
    "    predictions.append(predicted_label)\n",
    "    labels.append(label)\n",
    "\n",
    "conf_mat = confusion_matrix(labels, predictions, labels=vocab)\n",
    "# Print the confusion matrix\n",
    "# print(np.array2string(conf_mat, separator=', '))\n",
    "\n",
    "fig, ax = plt.subplots(figsize=(10,10))\n",
    "im = ax.imshow(conf_mat, cmap='Blues')\n",
    "\n",
    "# Set ticks for x and y axis\n",
    "ax.set_xticks(np.arange(len(vocab)))\n",
    "ax.set_yticks(np.arange(len(vocab)))\n",
    "\n",
    "# Set labels for x and y axis\n",
    "ax.set_xlabel('Predictions')\n",
    "ax.set_ylabel('True Labels')\n",
    "ax.set_xticklabels(vocab)\n",
    "ax.set_yticklabels(vocab)\n",
    "\n",
    "# Rotate the x-axis labels for better readability\n",
    "plt.setp(ax.get_xticklabels(), rotation=45, ha=\"right\", rotation_mode=\"anchor\")\n",
    "\n",
    "# Loop over the data and create annotations for each cell\n",
    "for i in range(len(vocab)):\n",
    "    for j in range(len(vocab)):\n",
    "        text = ax.text(j, i, conf_mat[i, j], ha=\"center\", va=\"center\", color=\"w\")\n",
    "\n",
    "# Set title and colorbar\n",
    "ax.set_title(\"Confusion Matrix\")\n",
    "fig.colorbar(im)\n",
    "plt.show()"
   ]
  },
  {
   "cell_type": "markdown",
   "id": "64babc86",
   "metadata": {},
   "source": [
    "Some specific expected model targets for their respective inputs:"
   ]
  },
  {
   "cell_type": "code",
   "execution_count": 13,
   "id": "fae93ca3",
   "metadata": {},
   "outputs": [
    {
     "name": "stdout",
     "output_type": "stream",
     "text": [
      "Input sequence: ['Canada', 'United States', 'Mexico', 'Brazil'], Predicted next word: Argentina\n",
      "Input sequence: ['Canada', 'United States', 'United Kingdom', 'France', 'Germany', 'Poland'], Predicted next word: Turkey\n",
      "Input sequence: ['United States', 'Japan', 'Australia'], Predicted next word: India\n",
      "Input sequence: ['Russia', 'China', 'India', 'Brazil'], Predicted next word: South Africa\n"
     ]
    }
   ],
   "source": [
    "# Test the model on a new input sequence\n",
    "# inputs = df['inputs'].tolist() # A list of inputs. Example: [['United States', 'Japan', 'Australia'], ['Canada', 'United States', 'Mexico', 'Brazil'],  ['Canada', 'United States', 'United Kingdom', 'France', 'Germany', 'Poland'], ['Russia', 'China', 'India', 'Brazil'], and so on...]\n",
    "# targets = df['targets'].tolist() # A list of targets for each input. Example: ['India', 'Argentina', 'Turkey', 'South Africa', and so on...]\n",
    "\n",
    "input_seqs = [['Canada', 'United States', 'Mexico', 'Brazil'], ['Canada', 'United States', 'United Kingdom', 'France', 'Germany', 'Poland'], ['United States', 'Japan', 'Australia'], ['Russia', 'China', 'India', 'Brazil']]\n",
    "for i in input_seqs:\n",
    "    output = best_lstm(i)\n",
    "    predicted_idx = torch.argmax(output[-1]).item()\n",
    "    predicted_word = idx2word[predicted_idx]\n",
    "    print(f'Input sequence: {i}, Predicted next word: {predicted_word}')"
   ]
  },
  {
   "cell_type": "markdown",
   "id": "7f7e0014",
   "metadata": {},
   "source": [
    "So the expected targets are hit when the model is given the right inputs. But what about other inputs?"
   ]
  },
  {
   "cell_type": "code",
   "execution_count": 14,
   "id": "5ede3433",
   "metadata": {},
   "outputs": [
    {
     "name": "stdout",
     "output_type": "stream",
     "text": [
      "Input sequence: ['Canada', 'United States', 'Mexico'], Predicted next word: Brazil\n",
      "Input sequence: ['United Kingdom', 'France', 'Germany'], Predicted next word: Turkey\n",
      "Input sequence: ['Japan', 'Australia'], Predicted next word: India\n",
      "Input sequence: ['Russia', 'China'], Predicted next word: South Africa\n"
     ]
    }
   ],
   "source": [
    "input_seqs = [['Canada', 'United States', 'Mexico'], ['United Kingdom', 'France', 'Germany'], ['Japan', 'Australia'], ['Russia', 'China']]\n",
    "for i in input_seqs:\n",
    "    output = best_lstm(i)\n",
    "    predicted_idx = torch.argmax(output[-1]).item()\n",
    "    predicted_word = idx2word[predicted_idx]\n",
    "    print(f'Input sequence: {i}, Predicted next word: {predicted_word}')\n",
    "#Should expect: Brazil, Poland, India, and India again"
   ]
  },
  {
   "cell_type": "markdown",
   "id": "4168319a",
   "metadata": {},
   "source": [
    "As we can see, there's still work to do. We will see if we can fix this with more data or another model."
   ]
  }
 ],
 "metadata": {
  "kernelspec": {
   "display_name": "Python 3 (ipykernel)",
   "language": "python",
   "name": "python3"
  },
  "language_info": {
   "codemirror_mode": {
    "name": "ipython",
    "version": 3
   },
   "file_extension": ".py",
   "mimetype": "text/x-python",
   "name": "python",
   "nbconvert_exporter": "python",
   "pygments_lexer": "ipython3",
   "version": "3.10.1"
  }
 },
 "nbformat": 4,
 "nbformat_minor": 5
}
