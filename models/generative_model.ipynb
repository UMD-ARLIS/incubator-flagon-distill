{
 "cells": [
  {
   "cell_type": "markdown",
   "metadata": {},
   "source": [
    "# Synthetic Graph Generation Model\n",
    "In this notebook, we run through an experiment using UserALE data generated within an instantiation of Superset.  This data reflects four simulated user sessions in which the user performs three tasks within the Video Game Sales example dashboard:\n",
    "\n",
    "1. Filter the games for Wii, Racing, and Nintendo.\n",
    "2. Find Mario Kart in the list of games.\n",
    "3. Determine the difference in global sales between the 3DS game Nintendogs + cats and Wii Sports.\n",
    "\n",
    "The data of these four sessions is captured in a json file within the data folder entitled `task_example.json`.  In this experiment, we will:\n",
    "\n",
    "* Investigate the structure of the networkx `DiGraph` data that Distill's Analytics package uses.\n",
    "* Attempt to plug the `DiGraph` objects resulting from `task_example.json` into various GAN models.\n",
    "* Attempt to reduce our GAN model's generator loss to a reasonable level.\n",
    "* Generate some synthetic graph data to train our predictive model in `predictive_model.ipynb` with.\n",
    "\n",
    "**Note: The data utilized in this example was not data collected in any user study.  Rather this data is simulated through developer interactions with the Superset dashboard.**"
   ]
  },
  {
   "cell_type": "code",
   "execution_count": null,
   "metadata": {},
   "outputs": [],
   "source": []
  }
 ],
 "metadata": {
  "kernelspec": {
   "display_name": "Python 3 (ipykernel)",
   "language": "python",
   "name": "python3"
  },
  "language_info": {
   "codemirror_mode": {
    "name": "ipython",
    "version": 3
   },
   "file_extension": ".py",
   "mimetype": "text/x-python",
   "name": "python",
   "nbconvert_exporter": "python",
   "pygments_lexer": "ipython3",
   "version": "3.10.1"
  },
  "vscode": {
   "interpreter": {
    "hash": "ee3d06e2f47c379c84ddc2f8584ef1b36487d010a572cd3eb9e58b6881766743"
   }
  }
 },
 "nbformat": 4,
 "nbformat_minor": 2
}
